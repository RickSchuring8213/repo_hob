{
 "cells": [
  {
   "cell_type": "code",
   "execution_count": 43,
   "metadata": {},
   "outputs": [],
   "source": [
    "from bs4 import BeautifulSoup\n",
    "import pandas as pd\n",
    "import requests"
   ]
  },
  {
   "cell_type": "code",
   "execution_count": 69,
   "metadata": {},
   "outputs": [
    {
     "data": {
      "text/plain": [
       "'https://nl.indeed.com/viewjob?jk=783d4b912fc980c1&q=data&tk=1fubko4r9235s000&from=web&advn=3337412822440320&adid=384169117&ad=-6NYlbfkN0ApsoXGMnRFhEweLKtPuh1oqNSoUi2RuZ8JH373IA85Z8XraVXEsR8DvEyYGuz1ShsdCRGNQg_TAuGepboQYTYk6lQhJkrrxZcVLXo7Xk2Ihp7zYTj1txoGI_ciGA93kU6UnZltUFR45-J40xOzUoUMkzwbhninfBW4lzG02E81sYjO4xbx84m0aPKjyqgG7c8MFj31edH-kCxB9CE3i3S6y7BojJBFPNVl7qPBqttXW69thRkjCkJfYY2rXBSMX2CDZzk51T0YCrDkdz7ThkusJ5HzwIyr0xH0fHFQCBNSOfHyu5UBqVqxeNA7ybVZFzsyX6fJ-u_4M0j1oEZfswjTK6j4wyUNegemoXFFfwXZxP4YRpKhGVuQSv9cg5vfcjo%3D&pub=4a1b367933fd867b19b072952f68dceb&vjs=3'"
      ]
     },
     "execution_count": 69,
     "metadata": {},
     "output_type": "execute_result"
    }
   ],
   "source": [
    "job = 'data business intelligence'\n",
    "#url = f\"https://nl.indeed.com/vacatures?q={job.replace(' ', '%20')}&radius=0&start=0&vjk=78ce8c3d372df8de\"\n",
    "url = 'https://nl.indeed.com/viewjob?jk=783d4b912fc980c1&q=data&tk=1fubko4r9235s000&from=web&advn=3337412822440320&adid=384169117&ad=-6NYlbfkN0ApsoXGMnRFhEweLKtPuh1oqNSoUi2RuZ8JH373IA85Z8XraVXEsR8DvEyYGuz1ShsdCRGNQg_TAuGepboQYTYk6lQhJkrrxZcVLXo7Xk2Ihp7zYTj1txoGI_ciGA93kU6UnZltUFR45-J40xOzUoUMkzwbhninfBW4lzG02E81sYjO4xbx84m0aPKjyqgG7c8MFj31edH-kCxB9CE3i3S6y7BojJBFPNVl7qPBqttXW69thRkjCkJfYY2rXBSMX2CDZzk51T0YCrDkdz7ThkusJ5HzwIyr0xH0fHFQCBNSOfHyu5UBqVqxeNA7ybVZFzsyX6fJ-u_4M0j1oEZfswjTK6j4wyUNegemoXFFfwXZxP4YRpKhGVuQSv9cg5vfcjo%3D&pub=4a1b367933fd867b19b072952f68dceb&vjs=3'\n",
    "url"
   ]
  },
  {
   "cell_type": "code",
   "execution_count": 70,
   "metadata": {},
   "outputs": [],
   "source": [
    "response = requests.get(url)"
   ]
  },
  {
   "cell_type": "code",
   "execution_count": 71,
   "metadata": {},
   "outputs": [],
   "source": [
    "soup = BeautifulSoup(response.content, 'html.parser')\n"
   ]
  },
  {
   "cell_type": "code",
   "execution_count": 72,
   "metadata": {},
   "outputs": [
    {
     "data": {
      "text/plain": [
       "[<div class=\"jobsearch-jobDescriptionText\" id=\"jobDescriptionText\"><p>Procesverbetering dankzij data-analyse. Jij trekt als Data Proces Analist de verantwoordelijkheid naar je toe om – vanuit een consultancyrol – bedrijfsprocessen van klanten een kwaliteitsimpuls te geven.</p><p>Alle digitale bewegingen van klanten en bedrijven laten hun sporen achter. Dat klinkt voor jou als Data Proces Analist als het begin van iets moois, want met die data leg jij het fundament voor betere bedrijfsprocessen. Dat doe je voor bekende corporate organisaties en grote spelers binnen het mkb-segment. Samen met de klant zoek je naar mogelijkheden om klanttevredenheid te verhogen, kosten te reduceren en doorlooptijden te verkorten. En je zorgt voor een kwalitatief sterk en gedegen proces.</p><p><b>Dit ga je doen: </b></p><ul><li>Bespreek vanuit jouw rol als consultant de verwachtingen met de klant.</li><li>Reconstrueer processen, verzamel data en kom tot inzicht over hoe processen lopen.</li><li>Vertaal data naar processen en zoek naar factoren waar je invloed op uit kunt oefenen.</li></ul><p><b>Werken bij MLC</b></p><p>MLC in Leusden heeft al 30 jaar een sterke eigen cultuur, die we omschrijven als sociaal ondernemend. Wij transformeren organisaties naar een optimale digitale procesomgeving waarbij de mens in zijn kracht staat.</p><p>In een optimale digitale procesomgeving is het primaire proces zo efficiënt mogelijk ingericht om hiermee Operational Efficiency te bereiken. Daarnaast draagt iedere medewerker écht bij aan de behoefte van de klant om zo Customer Excellence te realiseren. Transparantie en duurzaamheid om aan te tonen dat je als organisatie daadwerkelijk In Control bent staat hierin centraal.</p><p>Bij MLC werken zo’n 30 ’procesdenkers’. Jij werkt als Consultant in teams met wisselende samenstellingen voor toonaangevende klanten in verschillende branches, die meestal gevestigd zijn in de randstad. Denk aan woningcorporaties, overheidsinstellingen en zakelijke dienstverleners, zoals banken, verzekeraars en energiemaatschappijen. Vaak werk je samen met onze klanten aan meerdere projecten tegelijk, je bent dan ook meestal te vinden bij de klanten voor wie je een project draait.</p><p><b>Jouw verdienste</b></p><p>Dat zijn in de eerste plaats de tevreden klanten waar jij als Data Proces Analist voor zorgt. Daarnaast krijg je op basis van een 40-urige werkweek het volgende:</p><ul><li>Een marktconform bruto maandsalaris passend bij opleiding en ervaring.</li><li>Flexibele werktijden.</li><li>Een bijdrage aan je pensioen.</li><li>De mogelijkheid om gedeeltelijk vanuit huis te werken.</li><li>28 vakantiedagen en extra vrije ‘loyaliteitsdagen’ als je langer dan 3 jaar bij ons werkt.</li><li>Een winstdeling aan het einde van het jaar, deze kan oplopen tot een dubbel maandsalaris.</li><li>Een mobiliteitsvergoeding die je kunt inzetten voor een leaseauto, OV-kaart of reiskostenvergoeding.</li><li>Volop doorgroeimogelijkheden om nog beter te worden in wat je doet.</li></ul><p><b>Jouw profiel</b></p><p>In deze baan als Data Proces Analist werk je op het snijvlak van data-analyse en consultancy. Dat vraagt om een bèta-achtergrond met de mindset van een consultant. Het betekent dat je inhoudelijk sterk voor de dag komt en op niveau met de klant kunt communiceren. Je hebt een resultaatgerichte drive waarmee je anderen overtuigt en meekrijgt. Laten we het houden op ondernemerschap, waarbij je de volledige verantwoordelijkheid over projecten hebt. Naar buiten toe geef jij het visitekaartje af voor MLC, intern zorg je voor een uitstekende propositie. Jouw profiel is compleet met:</p><ul><li>Een hbo-diploma of hoger, richting een bedrijfskundige opleiding, waar wiskunde en statistiek kernvakken waren.</li><li>Minimaal 3 jaar werkervaring met data en proces analyse, bijvoorbeeld als Data Scientist, Data Proces Manager, Data Consultant, Business Analist of een andere functie waarin je met data hebt gewerkt.</li><li>Kennis van:</li><li>- predictive analytics (tooling als R, Phyton)</li><li>- BPM</li><li>- process mining</li><li>- RPA</li><li>- SQL en nog beter Relationele Databases</li><li>Kennis van de basis van onze dienstverlening:</li><li>- BPM</li><li>- Lean</li><li>- Six Sigma</li><li>- Continu Verbeteren</li><li>- Klantreizen</li></ul><p><b>Stap binnen bij MLC</b></p><p>Sta jij aan de wieg van kwalitatief goede bedrijfsprocessen? Reageer dan in ieder geval op de vacature van Data Proces Analist. Upload via de knop onderaan deze pagina je CV en motivatiebrief of -filmpje (net welke jij prettiger vindt).</p><p>Neem contact op met Office Manager Mariëlle Debrichy als je nog vragen hebt over deze vacature. Zij is te bereiken via 035 – 548 65 65.</p><p><b>Na jouw sollicitatie</b></p><p>Zodra wij jouw sollicitatie ontvangen, mag je binnen twee weken een terugkoppeling van ons verwachten. Hebben we meer tijd nodig, dan laten we dit weten.</p><p>Om er zeker van te zijn dat we bij elkaar passen, nodigen wij geschikte kandidaten eerst uit voor een kennismaking met één van de managing partners. Hierna volgt een verdiepend gesprek met directe collega’s. Tijdens het laatste gesprek vragen we je om met passie een presentatie te geven over resultaten die je eerder hebt behaald. Zijn we overtuigd? Dan volgt een arbeidsvoorwaardengesprek, waarin we jou een aanbod doen.</p><p>Acquisitie n.a.v. deze advertentie wordt niet op prijs gesteld.</p><p>Contractduur 12 maanden</p><p>Soort dienstverband: Bepaalde tijd</p><p>Salaris: €3.000,00 - €4.000,00 per maand</p><p>Aanvullende vergoedingen:</p><ul><li>Vakantiegeld</li></ul><p>Arbeidsvoorwaarden:</p><ul><li>Auto van de zaak</li><li>Bedrijfsfeesten</li><li>Budget voor professionele ontwikkeling</li><li>Flexibele werkuren</li><li>Pensioen</li><li>Reiskostenvergoeding</li><li>Telefoonplan</li><li>Werk vanuit huis</li><li>Winstdeling</li><li>Zorgverzekering</li></ul><p>Werkschema:</p><ul><li>ma-vr</li></ul><p>Opleiding:</p><ul><li>HBO (Vereist)</li></ul><p>Thuiswerken:</p><ul><li>Tijdelijk vanwege COVID-19</li></ul></div>]"
      ]
     },
     "execution_count": 72,
     "metadata": {},
     "output_type": "execute_result"
    }
   ],
   "source": [
    "result = soup.find_all(id = 'jobDescriptionText')\n",
    "result"
   ]
  },
  {
   "cell_type": "code",
   "execution_count": 75,
   "metadata": {},
   "outputs": [
    {
     "ename": "AttributeError",
     "evalue": "'NoneType' object has no attribute 'get'",
     "output_type": "error",
     "traceback": [
      "\u001b[1;31m---------------------------------------------------------------------------\u001b[0m",
      "\u001b[1;31mAttributeError\u001b[0m                            Traceback (most recent call last)",
      "\u001b[1;32m~\\AppData\\Local\\Temp/ipykernel_20452/2167636831.py\u001b[0m in \u001b[0;36m<module>\u001b[1;34m\u001b[0m\n\u001b[0;32m      1\u001b[0m \u001b[0msalary\u001b[0m \u001b[1;33m=\u001b[0m \u001b[0msoup\u001b[0m\u001b[1;33m.\u001b[0m\u001b[0mfind\u001b[0m\u001b[1;33m(\u001b[0m\u001b[0mclass_\u001b[0m \u001b[1;33m=\u001b[0m \u001b[1;34m'icl-u-xs-mr--xs attribute_snippet'\u001b[0m\u001b[1;33m)\u001b[0m\u001b[1;33m.\u001b[0m\u001b[0mget_text\u001b[0m\u001b[1;33m(\u001b[0m\u001b[1;33m)\u001b[0m\u001b[1;33m\u001b[0m\u001b[1;33m\u001b[0m\u001b[0m\n\u001b[0;32m      2\u001b[0m \u001b[1;31m#reviews = soup.find(class_ = 'icl-Ratings-count').get_text().replace(' reviews', '')\u001b[0m\u001b[1;33m\u001b[0m\u001b[1;33m\u001b[0m\u001b[0m\n\u001b[1;32m----> 3\u001b[1;33m \u001b[0mstars\u001b[0m \u001b[1;33m=\u001b[0m \u001b[0msoup\u001b[0m\u001b[1;33m.\u001b[0m\u001b[0mfind\u001b[0m\u001b[1;33m(\u001b[0m\u001b[0mclass_\u001b[0m  \u001b[1;33m=\u001b[0m \u001b[1;34m'icl-Ratings-starsCountWrapper'\u001b[0m\u001b[1;33m)\u001b[0m\u001b[1;33m.\u001b[0m\u001b[0mget\u001b[0m\u001b[1;33m(\u001b[0m\u001b[1;34m'aria-label'\u001b[0m\u001b[1;33m)\u001b[0m\u001b[1;33m\u001b[0m\u001b[1;33m\u001b[0m\u001b[0m\n\u001b[0m\u001b[0;32m      4\u001b[0m \u001b[0mjob_title\u001b[0m \u001b[1;33m=\u001b[0m \u001b[0msoup\u001b[0m\u001b[1;33m.\u001b[0m\u001b[0mfind\u001b[0m\u001b[1;33m(\u001b[0m\u001b[0mclass_\u001b[0m  \u001b[1;33m=\u001b[0m \u001b[1;34m'icl-u-xs-mb--xs icl-u-xs-mt--none jobsearch-JobInfoHeader-title'\u001b[0m\u001b[1;33m)\u001b[0m\u001b[1;33m.\u001b[0m\u001b[0mget_text\u001b[0m\u001b[1;33m(\u001b[0m\u001b[1;33m)\u001b[0m\u001b[1;33m\u001b[0m\u001b[1;33m\u001b[0m\u001b[0m\n\u001b[0;32m      5\u001b[0m \u001b[0mlocation\u001b[0m \u001b[1;33m=\u001b[0m \u001b[0msoup\u001b[0m\u001b[1;33m.\u001b[0m\u001b[0mfind\u001b[0m\u001b[1;33m(\u001b[0m\u001b[0mclass_\u001b[0m  \u001b[1;33m=\u001b[0m \u001b[1;34m'icl-u-xs-mt--xs icl-u-textColor--secondary jobsearch-JobInfoHeader-subtitle jobsearch-DesktopStickyContainer-subtitle'\u001b[0m\u001b[1;33m)\u001b[0m\u001b[1;33m.\u001b[0m\u001b[0mget_text\u001b[0m\u001b[1;33m(\u001b[0m\u001b[1;33m)\u001b[0m\u001b[1;33m\u001b[0m\u001b[1;33m\u001b[0m\u001b[0m\n",
      "\u001b[1;31mAttributeError\u001b[0m: 'NoneType' object has no attribute 'get'"
     ]
    }
   ],
   "source": [
    "salary = soup.find(class_ = 'icl-u-xs-mr--xs attribute_snippet').get_text()\n",
    "#reviews = soup.find(class_ = 'icl-Ratings-count').get_text().replace(' reviews', '')\n",
    "stars = soup.find(class_  = 'icl-Ratings-starsCountWrapper').get('aria-label')\n",
    "job_title = soup.find(class_  = 'icl-u-xs-mb--xs icl-u-xs-mt--none jobsearch-JobInfoHeader-title').get_text()\n",
    "location = soup.find(class_  = 'icl-u-xs-mt--xs icl-u-textColor--secondary jobsearch-JobInfoHeader-subtitle jobsearch-DesktopStickyContainer-subtitle').get_text()\n",
    "job_title"
   ]
  }
 ],
 "metadata": {
  "interpreter": {
   "hash": "325ff4c32c4c82d38abbe0dd4546927209c249088f6d78badb0b03a1ebac0c5e"
  },
  "kernelspec": {
   "display_name": "Python 3.9.7 ('base')",
   "language": "python",
   "name": "python3"
  },
  "language_info": {
   "codemirror_mode": {
    "name": "ipython",
    "version": 3
   },
   "file_extension": ".py",
   "mimetype": "text/x-python",
   "name": "python",
   "nbconvert_exporter": "python",
   "pygments_lexer": "ipython3",
   "version": "3.9.7"
  },
  "orig_nbformat": 4
 },
 "nbformat": 4,
 "nbformat_minor": 2
}
